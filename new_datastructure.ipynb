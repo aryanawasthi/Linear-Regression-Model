{
  "cells": [
    {
      "cell_type": "markdown",
      "metadata": {
        "id": "view-in-github",
        "colab_type": "text"
      },
      "source": [
        "<a href=\"https://colab.research.google.com/github/aryanawasthi/Linear-Regression-Model/blob/main/new_datastructure.ipynb\" target=\"_parent\"><img src=\"https://colab.research.google.com/assets/colab-badge.svg\" alt=\"Open In Colab\"/></a>"
      ]
    },
    {
      "cell_type": "code",
      "execution_count": null,
      "metadata": {
        "id": "W2yRuPWSpyyk"
      },
      "outputs": [],
      "source": [
        "# Jovian Commit Essentials\n",
        "# Please retain and execute this cell without modifying the contents for `jovian.commit` to work\n",
        "!pip install jovian --upgrade -q\n",
        "import jovian\n",
        "jovian.set_project('python-binary-search')\n",
        "jovian.set_colab_id('1zI3fnTYsMq2mN-72aVfBHqk9a6ZjHapV')"
      ]
    },
    {
      "cell_type": "markdown",
      "metadata": {
        "id": "dxyIAQfepyyt"
      },
      "source": [
        "# new-datastructure\n",
        "\n",
        "Use the \"Run\" button to execute the code."
      ]
    },
    {
      "cell_type": "code",
      "execution_count": 2,
      "metadata": {
        "colab": {
          "base_uri": "https://localhost:8080/"
        },
        "id": "AFmfFhzQpyyx",
        "outputId": "da096bfe-8901-474f-d840-8c71e28668bd"
      },
      "outputs": [
        {
          "output_type": "stream",
          "name": "stdout",
          "text": [
            "\u001b[?25l\r\u001b[K     |████▊                           | 10 kB 24.8 MB/s eta 0:00:01\r\u001b[K     |█████████▌                      | 20 kB 22.5 MB/s eta 0:00:01\r\u001b[K     |██████████████▎                 | 30 kB 12.3 MB/s eta 0:00:01\r\u001b[K     |███████████████████             | 40 kB 10.3 MB/s eta 0:00:01\r\u001b[K     |███████████████████████▉        | 51 kB 5.4 MB/s eta 0:00:01\r\u001b[K     |████████████████████████████▋   | 61 kB 5.9 MB/s eta 0:00:01\r\u001b[K     |████████████████████████████████| 68 kB 2.9 MB/s \n",
            "\u001b[?25h  Building wheel for uuid (setup.py) ... \u001b[?25l\u001b[?25hdone\n"
          ]
        }
      ],
      "source": [
        "!pip install jovian --upgrade --quiet"
      ]
    },
    {
      "cell_type": "code",
      "execution_count": 3,
      "metadata": {
        "id": "TQW-g00dpyyy"
      },
      "outputs": [],
      "source": [
        "import jovian"
      ]
    },
    {
      "cell_type": "code",
      "execution_count": 6,
      "metadata": {
        "colab": {
          "base_uri": "https://localhost:8080/"
        },
        "id": "JpveELM9pyyz",
        "outputId": "aa80979c-9844-474c-d4e9-7eb0f52ac8ea"
      },
      "outputs": [
        {
          "output_type": "stream",
          "name": "stdout",
          "text": [
            "[jovian] Detected Colab notebook...\u001b[0m\n"
          ]
        },
        {
          "output_type": "stream",
          "name": "stderr",
          "text": [
            "\u001b[31m[jovian] Error: jovian.commit doesn't work on Colab unless the notebook was created and executed from Jovian.\n",
            "Make sure to run the first code cell at the top after executing from Jovian.\n",
            "Alternatively, you can download this notebook and upload it manually to Jovian.\n",
            "Learn more: https://jovian.ai/docs/user-guide/run.html#run-on-colab\u001b[0m\n"
          ]
        }
      ],
      "source": [
        "# Execute this to save new versions of the notebook\n",
        "jovian.commit(project=\"python_binary_Search\")\n",
        "from jovian.pythondsa import evaluate_test_case"
      ]
    },
    {
      "cell_type": "code",
      "execution_count": null,
      "metadata": {
        "id": "0LvQJg7Qpyy1"
      },
      "outputs": [],
      "source": [
        "def test_location(cards,query,mid):\n",
        "  mid_number=cards[mid]\n",
        "  if mid_number==query:\n",
        "    if mid-1>=0 and cards[mid-1]==query:\n",
        "      print('left')\n",
        "    else:\n",
        "      return 'found'\n",
        "  elif mid_number<query:\n",
        "    return 'left'\n",
        "  elif mid_number>query:\n",
        "    return 'right'\n",
        "def locate_cards(cards,query):\n",
        "  lo,hi=0,len(cards)-1\n",
        "  print(lo,hi)\n",
        "  while lo<=hi:\n",
        "    mid=(lo+hi)//2\n",
        "    result=test_location(cards,query,mid)\n",
        "    mid_number=cards[mid]\n",
        "    if mid_number=='found':\n",
        "    \n",
        "      return mid\n",
        "    elif mid_number=='left':\n",
        "      hi=mid-1\n",
        "    elif mid_number=='right':\n",
        "      lo=mid+1\n",
        "  return -1\n"
      ]
    },
    {
      "cell_type": "code",
      "source": [
        "test={'input':{'cards':[14,11,10,8,7,6],'query':8},'output':3}\n",
        "evaluate_test_case(locate_cards,test)"
      ],
      "metadata": {
        "colab": {
          "base_uri": "https://localhost:8080/"
        },
        "id": "i0KKZuAHrbE0",
        "outputId": "869908db-4b73-4a5f-a44c-7c510bf58352"
      },
      "execution_count": 26,
      "outputs": [
        {
          "output_type": "stream",
          "name": "stdout",
          "text": [
            "\n",
            "Input:\n",
            "{'cards': [14, 11, 10, 8, 7, 6], 'query': 8}\n",
            "\n",
            "Expected Output:\n",
            "3\n",
            "\n",
            "0 5\n",
            "2\n",
            "4\n",
            "3\n",
            "\n",
            "Actual Output:\n",
            "3\n",
            "\n",
            "Execution Time:\n",
            "5.465 ms\n",
            "\n",
            "Test Result:\n",
            "\u001b[92mPASSED\u001b[0m\n",
            "\n"
          ]
        },
        {
          "output_type": "execute_result",
          "data": {
            "text/plain": [
              "(3, True, 5.465)"
            ]
          },
          "metadata": {},
          "execution_count": 26
        }
      ]
    },
    {
      "cell_type": "code",
      "source": [
        "tests=[]\n",
        "tests.append({'input':{'cards':[10,6,3,-1,-4],'query':-1},'output':3})\n",
        "tests.append({'input':{'cards':[10,8,6,4,3],'query':5},'output':-1})\n",
        "tests.append({'input':{'cards':[],'query':9},'output':-1})\n",
        "tests.append({'input':{'cards':[9,8,8,8,4,3,2,1],'query':4},'output':4})\n",
        "tests.append({'input':{'cards':[9,8,6,6,5,3,2,1],'query':6},'output':2})"
      ],
      "metadata": {
        "id": "w-ELfExLrwu5"
      },
      "execution_count": 27,
      "outputs": []
    },
    {
      "cell_type": "code",
      "source": [
        "for test in tests:\n",
        "  evaluate_test_case(locate_cards,test)"
      ],
      "metadata": {
        "colab": {
          "base_uri": "https://localhost:8080/"
        },
        "id": "z0ghbPSnwLIO",
        "outputId": "76acc510-d777-4814-9976-e82c2e794f78"
      },
      "execution_count": null,
      "outputs": [
        {
          "output_type": "stream",
          "name": "stdout",
          "text": [
            "\n",
            "Input:\n",
            "{'cards': [10, 6, 3, -1, -4], 'query': -1}\n",
            "\n",
            "Expected Output:\n",
            "3\n",
            "\n",
            "0 4\n"
          ]
        }
      ]
    },
    {
      "cell_type": "code",
      "source": [
        "def test_location(cards,query,mid):\n",
        "  mid_number=cards[mid]\n",
        "  if mid_number==query:\n",
        "    if mid-1>=0 and cards[mid-1]==query:\n",
        "      print('left')\n",
        "    else:\n",
        "      return 'found'\n",
        "  elif mid_number<query:\n",
        "    return 'left'\n",
        "  elif mid_number>query:\n",
        "    return 'right'\n",
        "  "
      ],
      "metadata": {
        "id": "Y2hO3n61wMt9"
      },
      "execution_count": 30,
      "outputs": []
    },
    {
      "cell_type": "code",
      "source": [
        "for "
      ],
      "metadata": {
        "id": "0P9KXSiOwVzR"
      },
      "execution_count": null,
      "outputs": []
    }
  ],
  "metadata": {
    "kernelspec": {
      "display_name": "Python 3 (ipykernel)",
      "language": "python",
      "name": "python3"
    },
    "language_info": {
      "codemirror_mode": {
        "name": "ipython",
        "version": 3
      },
      "file_extension": ".py",
      "mimetype": "text/x-python",
      "name": "python",
      "nbconvert_exporter": "python",
      "pygments_lexer": "ipython3",
      "version": "3.9.6"
    },
    "colab": {
      "name": "new-datastructure.ipynb",
      "provenance": [],
      "include_colab_link": true
    }
  },
  "nbformat": 4,
  "nbformat_minor": 0
}